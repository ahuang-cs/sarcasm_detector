{
 "cells": [
  {
   "cell_type": "code",
   "execution_count": 1,
   "metadata": {},
   "outputs": [
    {
     "name": "stdout",
     "output_type": "stream",
     "text": [
      "Collecting clearml[s3]\n",
      "  Downloading clearml-1.14.1-py2.py3-none-any.whl.metadata (16 kB)\n",
      "Requirement already satisfied: attrs>=18.0 in c:\\users\\andrew\\pycharmprojects\\sarcasm_detector\\venv\\lib\\site-packages (from clearml[s3]) (23.1.0)\n",
      "Requirement already satisfied: furl>=2.0.0 in c:\\users\\andrew\\pycharmprojects\\sarcasm_detector\\venv\\lib\\site-packages (from clearml[s3]) (2.1.3)\n",
      "Requirement already satisfied: jsonschema>=2.6.0 in c:\\users\\andrew\\pycharmprojects\\sarcasm_detector\\venv\\lib\\site-packages (from clearml[s3]) (4.19.1)\n",
      "Requirement already satisfied: numpy>=1.10 in c:\\users\\andrew\\pycharmprojects\\sarcasm_detector\\venv\\lib\\site-packages (from clearml[s3]) (1.26.1)\n",
      "Requirement already satisfied: pathlib2>=2.3.0 in c:\\users\\andrew\\pycharmprojects\\sarcasm_detector\\venv\\lib\\site-packages (from clearml[s3]) (2.3.7.post1)\n",
      "Requirement already satisfied: Pillow>=4.1.1 in c:\\users\\andrew\\pycharmprojects\\sarcasm_detector\\venv\\lib\\site-packages (from clearml[s3]) (9.4.0)\n",
      "Requirement already satisfied: psutil>=3.4.2 in c:\\users\\andrew\\pycharmprojects\\sarcasm_detector\\venv\\lib\\site-packages (from clearml[s3]) (5.9.4)\n",
      "Requirement already satisfied: pyparsing>=2.0.3 in c:\\users\\andrew\\pycharmprojects\\sarcasm_detector\\venv\\lib\\site-packages (from clearml[s3]) (3.0.9)\n",
      "Requirement already satisfied: python-dateutil>=2.6.1 in c:\\users\\andrew\\pycharmprojects\\sarcasm_detector\\venv\\lib\\site-packages (from clearml[s3]) (2.8.2)\n",
      "Requirement already satisfied: PyYAML>=3.12 in c:\\users\\andrew\\pycharmprojects\\sarcasm_detector\\venv\\lib\\site-packages (from clearml[s3]) (6.0)\n",
      "Requirement already satisfied: requests>=2.20.0 in c:\\users\\andrew\\pycharmprojects\\sarcasm_detector\\venv\\lib\\site-packages (from clearml[s3]) (2.28.2)\n",
      "Requirement already satisfied: six>=1.13.0 in c:\\users\\andrew\\pycharmprojects\\sarcasm_detector\\venv\\lib\\site-packages (from clearml[s3]) (1.16.0)\n",
      "Requirement already satisfied: urllib3>=1.21.1 in c:\\users\\andrew\\pycharmprojects\\sarcasm_detector\\venv\\lib\\site-packages (from clearml[s3]) (1.26.14)\n",
      "Requirement already satisfied: pyjwt<2.9.0,>=2.4.0 in c:\\users\\andrew\\pycharmprojects\\sarcasm_detector\\venv\\lib\\site-packages (from clearml[s3]) (2.4.0)\n",
      "Requirement already satisfied: referencing<0.40 in c:\\users\\andrew\\pycharmprojects\\sarcasm_detector\\venv\\lib\\site-packages (from clearml[s3]) (0.30.2)\n",
      "Requirement already satisfied: boto3>=1.9 in c:\\users\\andrew\\pycharmprojects\\sarcasm_detector\\venv\\lib\\site-packages (from clearml[s3]) (1.28.76)\n",
      "Requirement already satisfied: botocore<1.32.0,>=1.31.76 in c:\\users\\andrew\\pycharmprojects\\sarcasm_detector\\venv\\lib\\site-packages (from boto3>=1.9->clearml[s3]) (1.31.76)\n",
      "Requirement already satisfied: jmespath<2.0.0,>=0.7.1 in c:\\users\\andrew\\pycharmprojects\\sarcasm_detector\\venv\\lib\\site-packages (from boto3>=1.9->clearml[s3]) (1.0.1)\n",
      "Requirement already satisfied: s3transfer<0.8.0,>=0.7.0 in c:\\users\\andrew\\pycharmprojects\\sarcasm_detector\\venv\\lib\\site-packages (from boto3>=1.9->clearml[s3]) (0.7.0)\n",
      "Requirement already satisfied: orderedmultidict>=1.0.1 in c:\\users\\andrew\\pycharmprojects\\sarcasm_detector\\venv\\lib\\site-packages (from furl>=2.0.0->clearml[s3]) (1.0.1)\n",
      "Requirement already satisfied: jsonschema-specifications>=2023.03.6 in c:\\users\\andrew\\pycharmprojects\\sarcasm_detector\\venv\\lib\\site-packages (from jsonschema>=2.6.0->clearml[s3]) (2023.7.1)\n",
      "Requirement already satisfied: rpds-py>=0.7.1 in c:\\users\\andrew\\pycharmprojects\\sarcasm_detector\\venv\\lib\\site-packages (from jsonschema>=2.6.0->clearml[s3]) (0.10.6)\n",
      "Requirement already satisfied: charset-normalizer<4,>=2 in c:\\users\\andrew\\pycharmprojects\\sarcasm_detector\\venv\\lib\\site-packages (from requests>=2.20.0->clearml[s3]) (2.1.1)\n",
      "Requirement already satisfied: idna<4,>=2.5 in c:\\users\\andrew\\pycharmprojects\\sarcasm_detector\\venv\\lib\\site-packages (from requests>=2.20.0->clearml[s3]) (3.4)\n",
      "Requirement already satisfied: certifi>=2017.4.17 in c:\\users\\andrew\\pycharmprojects\\sarcasm_detector\\venv\\lib\\site-packages (from requests>=2.20.0->clearml[s3]) (2022.12.7)\n",
      "Downloading clearml-1.14.1-py2.py3-none-any.whl (1.1 MB)\n",
      "   ---------------------------------------- 0.0/1.1 MB ? eta -:--:--\n",
      "   -- ------------------------------------- 0.1/1.1 MB 1.1 MB/s eta 0:00:01\n",
      "   ------ --------------------------------- 0.2/1.1 MB 1.7 MB/s eta 0:00:01\n",
      "   --------- ------------------------------ 0.3/1.1 MB 1.9 MB/s eta 0:00:01\n",
      "   ----------- ---------------------------- 0.3/1.1 MB 1.7 MB/s eta 0:00:01\n",
      "   ----------------- ---------------------- 0.5/1.1 MB 2.0 MB/s eta 0:00:01\n",
      "   -------------------- ------------------- 0.6/1.1 MB 2.1 MB/s eta 0:00:01\n",
      "   ---------------------- ----------------- 0.6/1.1 MB 2.0 MB/s eta 0:00:01\n",
      "   --------------------------- ------------ 0.8/1.1 MB 2.2 MB/s eta 0:00:01\n",
      "   -------------------------------- ------- 0.9/1.1 MB 2.2 MB/s eta 0:00:01\n",
      "   ------------------------------------ --- 1.0/1.1 MB 2.3 MB/s eta 0:00:01\n",
      "   ------------------------------------- -- 1.1/1.1 MB 2.2 MB/s eta 0:00:01\n",
      "   ---------------------------------------  1.1/1.1 MB 2.0 MB/s eta 0:00:01\n",
      "   ---------------------------------------- 1.1/1.1 MB 2.0 MB/s eta 0:00:00\n",
      "Installing collected packages: clearml\n",
      "Successfully installed clearml-1.14.1\n",
      "Note: you may need to restart the kernel to use updated packages.\n"
     ]
    },
    {
     "name": "stderr",
     "output_type": "stream",
     "text": [
      "\n",
      "[notice] A new release of pip is available: 23.3.1 -> 23.3.2\n",
      "[notice] To update, run: python.exe -m pip install --upgrade pip\n"
     ]
    },
    {
     "name": "stdout",
     "output_type": "stream",
     "text": [
      "ClearML Task: created new task id=9fe0f2bad9ae42c1aa4ec93a9a4effea\n",
      "2024-02-05 13:50:37,367 - clearml.Task - INFO - Storing jupyter notebook directly as code\n",
      "ClearML results page: http://clearml.ad.ai.sdl.com:8080/projects/a46a2f49fb1a4d01af3ec65a455fe6c3/experiments/9fe0f2bad9ae42c1aa4ec93a9a4effea/output/log\n"
     ]
    },
    {
     "ename": "OSError",
     "evalue": "[WinError 123] The filename, directory name, or volume label syntax is incorrect: 's3:\\\\dev-lps\\\\ahuang\\\\checkpoint-126'",
     "output_type": "error",
     "traceback": [
      "\u001B[1;31m---------------------------------------------------------------------------\u001B[0m",
      "\u001B[1;31mOSError\u001B[0m                                   Traceback (most recent call last)",
      "Cell \u001B[1;32mIn[1], line 5\u001B[0m\n\u001B[0;32m      2\u001B[0m \u001B[38;5;28;01mfrom\u001B[39;00m \u001B[38;5;21;01mclearml\u001B[39;00m \u001B[38;5;28;01mimport\u001B[39;00m OutputModel, Task\n\u001B[0;32m      4\u001B[0m task \u001B[38;5;241m=\u001B[39m Task\u001B[38;5;241m.\u001B[39minit(project_name\u001B[38;5;241m=\u001B[39m\u001B[38;5;124m\"\u001B[39m\u001B[38;5;124msarcasm_detector\u001B[39m\u001B[38;5;124m\"\u001B[39m, task_name\u001B[38;5;241m=\u001B[39m\u001B[38;5;124m\"\u001B[39m\u001B[38;5;124mupload_model\u001B[39m\u001B[38;5;124m\"\u001B[39m, output_uri\u001B[38;5;241m=\u001B[39m\u001B[38;5;28;01mTrue\u001B[39;00m)\n\u001B[1;32m----> 5\u001B[0m \u001B[43mtask\u001B[49m\u001B[38;5;241;43m.\u001B[39;49m\u001B[43mupdate_output_model\u001B[49m\u001B[43m(\u001B[49m\u001B[38;5;124;43mr\u001B[39;49m\u001B[38;5;124;43m\"\u001B[39;49m\u001B[38;5;124;43ms3://dev-lps/ahuang/checkpoint-126\u001B[39;49m\u001B[38;5;124;43m\"\u001B[39;49m\u001B[43m,\u001B[49m\u001B[43m \u001B[49m\u001B[43mauto_delete_file\u001B[49m\u001B[38;5;241;43m=\u001B[39;49m\u001B[38;5;28;43;01mFalse\u001B[39;49;00m\u001B[43m)\u001B[49m\n\u001B[0;32m      6\u001B[0m task\u001B[38;5;241m.\u001B[39mclose()\n",
      "File \u001B[1;32m~\\PycharmProjects\\sarcasm_detector\\venv\\Lib\\site-packages\\clearml\\backend_interface\\task\\task.py:1012\u001B[0m, in \u001B[0;36mTask.update_output_model\u001B[1;34m(self, model_path, name, comment, tags, model_name, iteration, auto_delete_file)\u001B[0m\n\u001B[0;32m   1005\u001B[0m output_model \u001B[38;5;241m=\u001B[39m OutputModel(\n\u001B[0;32m   1006\u001B[0m     task\u001B[38;5;241m=\u001B[39m\u001B[38;5;28mself\u001B[39m,\n\u001B[0;32m   1007\u001B[0m     name\u001B[38;5;241m=\u001B[39mmodel_name \u001B[38;5;129;01mor\u001B[39;00m (\u001B[38;5;124m'\u001B[39m\u001B[38;5;132;01m{}\u001B[39;00m\u001B[38;5;124m - \u001B[39m\u001B[38;5;132;01m{}\u001B[39;00m\u001B[38;5;124m'\u001B[39m\u001B[38;5;241m.\u001B[39mformat(\u001B[38;5;28mself\u001B[39m\u001B[38;5;241m.\u001B[39mname, name) \u001B[38;5;28;01mif\u001B[39;00m name \u001B[38;5;28;01melse\u001B[39;00m \u001B[38;5;28mself\u001B[39m\u001B[38;5;241m.\u001B[39mname),\n\u001B[0;32m   1008\u001B[0m     tags\u001B[38;5;241m=\u001B[39mtags,\n\u001B[0;32m   1009\u001B[0m     comment\u001B[38;5;241m=\u001B[39mcomment\n\u001B[0;32m   1010\u001B[0m )\n\u001B[0;32m   1011\u001B[0m output_model\u001B[38;5;241m.\u001B[39mconnect(task\u001B[38;5;241m=\u001B[39m\u001B[38;5;28mself\u001B[39m, name\u001B[38;5;241m=\u001B[39mname)\n\u001B[1;32m-> 1012\u001B[0m url \u001B[38;5;241m=\u001B[39m \u001B[43moutput_model\u001B[49m\u001B[38;5;241;43m.\u001B[39;49m\u001B[43mupdate_weights\u001B[49m\u001B[43m(\u001B[49m\n\u001B[0;32m   1013\u001B[0m \u001B[43m    \u001B[49m\u001B[43mweights_filename\u001B[49m\u001B[38;5;241;43m=\u001B[39;49m\u001B[43mmodel_path\u001B[49m\u001B[43m,\u001B[49m\n\u001B[0;32m   1014\u001B[0m \u001B[43m    \u001B[49m\u001B[43mupload_uri\u001B[49m\u001B[38;5;241;43m=\u001B[39;49m\u001B[43moutput_uri\u001B[49m\u001B[43m,\u001B[49m\n\u001B[0;32m   1015\u001B[0m \u001B[43m    \u001B[49m\u001B[43miteration\u001B[49m\u001B[38;5;241;43m=\u001B[39;49m\u001B[43miteration\u001B[49m\u001B[43m,\u001B[49m\n\u001B[0;32m   1016\u001B[0m \u001B[43m    \u001B[49m\u001B[43mauto_delete_file\u001B[49m\u001B[38;5;241;43m=\u001B[39;49m\u001B[43mauto_delete_file\u001B[49m\n\u001B[0;32m   1017\u001B[0m \u001B[43m\u001B[49m\u001B[43m)\u001B[49m\n\u001B[0;32m   1018\u001B[0m \u001B[38;5;28;01mreturn\u001B[39;00m url\n",
      "File \u001B[1;32m~\\PycharmProjects\\sarcasm_detector\\venv\\Lib\\site-packages\\clearml\\model.py:2420\u001B[0m, in \u001B[0;36mOutputModel.update_weights\u001B[1;34m(self, weights_filename, upload_uri, target_filename, auto_delete_file, register_uri, iteration, update_comment, is_package, async_enable)\u001B[0m\n\u001B[0;32m   2408\u001B[0m     \u001B[38;5;28;01mreturn\u001B[39;00m \u001B[38;5;28mself\u001B[39m\u001B[38;5;241m.\u001B[39m_update_weights_offline(\n\u001B[0;32m   2409\u001B[0m         weights_filename\u001B[38;5;241m=\u001B[39mweights_filename,\n\u001B[0;32m   2410\u001B[0m         upload_uri\u001B[38;5;241m=\u001B[39mupload_uri,\n\u001B[1;32m   (...)\u001B[0m\n\u001B[0;32m   2415\u001B[0m         is_package\u001B[38;5;241m=\u001B[39mis_package,\n\u001B[0;32m   2416\u001B[0m     )\n\u001B[0;32m   2418\u001B[0m \u001B[38;5;28;01mif\u001B[39;00m weights_filename \u001B[38;5;129;01mis\u001B[39;00m \u001B[38;5;129;01mnot\u001B[39;00m \u001B[38;5;28;01mNone\u001B[39;00m:\n\u001B[0;32m   2419\u001B[0m     \u001B[38;5;66;03m# Check if weights_filename is a folder, is package upload\u001B[39;00m\n\u001B[1;32m-> 2420\u001B[0m     \u001B[38;5;28;01mif\u001B[39;00m \u001B[43mPath\u001B[49m\u001B[43m(\u001B[49m\u001B[43mweights_filename\u001B[49m\u001B[43m)\u001B[49m\u001B[38;5;241;43m.\u001B[39;49m\u001B[43mis_dir\u001B[49m\u001B[43m(\u001B[49m\u001B[43m)\u001B[49m:\n\u001B[0;32m   2421\u001B[0m         \u001B[38;5;28;01mreturn\u001B[39;00m \u001B[38;5;28mself\u001B[39m\u001B[38;5;241m.\u001B[39mupdate_weights_package(\n\u001B[0;32m   2422\u001B[0m             weights_path\u001B[38;5;241m=\u001B[39mweights_filename,\n\u001B[0;32m   2423\u001B[0m             upload_uri\u001B[38;5;241m=\u001B[39mupload_uri,\n\u001B[1;32m   (...)\u001B[0m\n\u001B[0;32m   2427\u001B[0m             async_enable\u001B[38;5;241m=\u001B[39masync_enable\n\u001B[0;32m   2428\u001B[0m         )\n\u001B[0;32m   2430\u001B[0m     \u001B[38;5;66;03m# make sure we delete the previous file, if it exists\u001B[39;00m\n",
      "File \u001B[1;32m~\\PycharmProjects\\sarcasm_detector\\venv\\Lib\\site-packages\\pathlib2\\__init__.py:1733\u001B[0m, in \u001B[0;36mPath.is_dir\u001B[1;34m(self)\u001B[0m\n\u001B[0;32m   1729\u001B[0m \u001B[38;5;250m\u001B[39m\u001B[38;5;124;03m\"\"\"\u001B[39;00m\n\u001B[0;32m   1730\u001B[0m \u001B[38;5;124;03mWhether this path is a directory.\u001B[39;00m\n\u001B[0;32m   1731\u001B[0m \u001B[38;5;124;03m\"\"\"\u001B[39;00m\n\u001B[0;32m   1732\u001B[0m \u001B[38;5;28;01mtry\u001B[39;00m:\n\u001B[1;32m-> 1733\u001B[0m     \u001B[38;5;28;01mreturn\u001B[39;00m S_ISDIR(\u001B[38;5;28;43mself\u001B[39;49m\u001B[38;5;241;43m.\u001B[39;49m\u001B[43mstat\u001B[49m\u001B[43m(\u001B[49m\u001B[43m)\u001B[49m\u001B[38;5;241m.\u001B[39mst_mode)\n\u001B[0;32m   1734\u001B[0m \u001B[38;5;28;01mexcept\u001B[39;00m \u001B[38;5;167;01mOSError\u001B[39;00m \u001B[38;5;28;01mas\u001B[39;00m e:\n\u001B[0;32m   1735\u001B[0m     \u001B[38;5;28;01mif\u001B[39;00m \u001B[38;5;129;01mnot\u001B[39;00m _ignore_error(e):\n",
      "File \u001B[1;32m~\\PycharmProjects\\sarcasm_detector\\venv\\Lib\\site-packages\\pathlib2\\__init__.py:1523\u001B[0m, in \u001B[0;36mPath.stat\u001B[1;34m(self)\u001B[0m\n\u001B[0;32m   1518\u001B[0m \u001B[38;5;28;01mdef\u001B[39;00m \u001B[38;5;21mstat\u001B[39m(\u001B[38;5;28mself\u001B[39m):\n\u001B[0;32m   1519\u001B[0m \u001B[38;5;250m    \u001B[39m\u001B[38;5;124;03m\"\"\"\u001B[39;00m\n\u001B[0;32m   1520\u001B[0m \u001B[38;5;124;03m    Return the result of the stat() system call on this path, like\u001B[39;00m\n\u001B[0;32m   1521\u001B[0m \u001B[38;5;124;03m    os.stat() does.\u001B[39;00m\n\u001B[0;32m   1522\u001B[0m \u001B[38;5;124;03m    \"\"\"\u001B[39;00m\n\u001B[1;32m-> 1523\u001B[0m     \u001B[38;5;28;01mreturn\u001B[39;00m \u001B[38;5;28;43mself\u001B[39;49m\u001B[38;5;241;43m.\u001B[39;49m\u001B[43m_accessor\u001B[49m\u001B[38;5;241;43m.\u001B[39;49m\u001B[43mstat\u001B[49m\u001B[43m(\u001B[49m\u001B[38;5;28;43mself\u001B[39;49m\u001B[43m)\u001B[49m\n",
      "File \u001B[1;32m~\\PycharmProjects\\sarcasm_detector\\venv\\Lib\\site-packages\\pathlib2\\__init__.py:646\u001B[0m, in \u001B[0;36m_wrap_strfunc.<locals>.wrapped\u001B[1;34m(pathobj, *args)\u001B[0m\n\u001B[0;32m    644\u001B[0m \u001B[38;5;129m@functools\u001B[39m\u001B[38;5;241m.\u001B[39mwraps(strfunc)\n\u001B[0;32m    645\u001B[0m \u001B[38;5;28;01mdef\u001B[39;00m \u001B[38;5;21mwrapped\u001B[39m(pathobj, \u001B[38;5;241m*\u001B[39margs):\n\u001B[1;32m--> 646\u001B[0m     \u001B[38;5;28;01mreturn\u001B[39;00m \u001B[43mstrfunc\u001B[49m\u001B[43m(\u001B[49m\u001B[38;5;28;43mstr\u001B[39;49m\u001B[43m(\u001B[49m\u001B[43mpathobj\u001B[49m\u001B[43m)\u001B[49m\u001B[43m,\u001B[49m\u001B[43m \u001B[49m\u001B[38;5;241;43m*\u001B[39;49m\u001B[43margs\u001B[49m\u001B[43m)\u001B[49m\n",
      "\u001B[1;31mOSError\u001B[0m: [WinError 123] The filename, directory name, or volume label syntax is incorrect: 's3:\\\\dev-lps\\\\ahuang\\\\checkpoint-126'"
     ]
    }
   ],
   "source": [
    "%pip install clearml[s3]\n",
    "from clearml import OutputModel, Task\n",
    "\n",
    "task = Task.init(project_name=\"sarcasm_detector\", task_name=\"upload_model\", output_uri=True)\n",
    "task.update_output_model(r\"s3://dev-lps/ahuang/checkpoint-126\", auto_delete_file=False)\n",
    "task.close()"
   ]
  },
  {
   "cell_type": "code",
   "execution_count": null,
   "metadata": {},
   "outputs": [],
   "source": []
  }
 ],
 "metadata": {
  "kernelspec": {
   "display_name": ".venv",
   "language": "python",
   "name": "python3"
  },
  "language_info": {
   "codemirror_mode": {
    "name": "ipython",
    "version": 3
   },
   "file_extension": ".py",
   "mimetype": "text/x-python",
   "name": "python",
   "nbconvert_exporter": "python",
   "pygments_lexer": "ipython3",
   "version": "3.10.9"
  },
  "orig_nbformat": 4,
  "vscode": {
   "interpreter": {
    "hash": "e7b14519f1c8f2e7fc30a05bd8b6f07f79db1c1b583af1e8e115d428914c7d96"
   }
  }
 },
 "nbformat": 4,
 "nbformat_minor": 2
}
